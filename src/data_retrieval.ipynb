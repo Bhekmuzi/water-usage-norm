{
  "nbformat": 4,
  "nbformat_minor": 0,
  "metadata": {
    "colab": {
      "provenance": [],
      "authorship_tag": "ABX9TyO+J3TJinDT8fGartIjJ6wz",
      "include_colab_link": true
    },
    "kernelspec": {
      "name": "python3",
      "display_name": "Python 3"
    },
    "language_info": {
      "name": "python"
    }
  },
  "cells": [
    {
      "cell_type": "markdown",
      "metadata": {
        "id": "view-in-github",
        "colab_type": "text"
      },
      "source": [
        "<a href=\"https://colab.research.google.com/github/Bhekmuzi/water-usage-norm/blob/main/src/data_retrieval.ipynb\" target=\"_parent\"><img src=\"https://colab.research.google.com/assets/colab-badge.svg\" alt=\"Open In Colab\"/></a>"
      ]
    },
    {
      "cell_type": "code",
      "source": [
        "# !pip freeze > requirements.txt"
      ],
      "metadata": {
        "id": "tn2hJoUBYdoc"
      },
      "execution_count": 1,
      "outputs": []
    },
    {
      "cell_type": "code",
      "source": [
        "# !pip install influxdb"
      ],
      "metadata": {
        "id": "N-bFSmf9YmhF"
      },
      "execution_count": 2,
      "outputs": []
    },
    {
      "cell_type": "code",
      "source": [
        "# !pip install pandas pymongo"
      ],
      "metadata": {
        "id": "uzwCwKVcZPC4"
      },
      "execution_count": 3,
      "outputs": []
    },
    {
      "cell_type": "code",
      "execution_count": 4,
      "metadata": {
        "id": "qih7MD7MTfH8"
      },
      "outputs": [],
      "source": [
        "import numpy as np\n",
        "from sklearn.cluster import KMeans\n",
        "# pip install influxdb\n",
        "# !python --version\n",
        "import numpy as np\n",
        "import pandas as pd\n",
        "import datetime\n",
        "import time\n",
        "from influxdb import InfluxDBClient\n",
        "from pymongo import MongoClient\n",
        "import matplotlib.pyplot as plt\n",
        "from google.colab import files\n",
        "from sklearn.cluster import KMeans, DBSCAN\n",
        "from sklearn.preprocessing import StandardScaler\n",
        "from datetime import datetime, timedelta\n",
        "# from scipy.stats import entropy\n",
        "\n",
        "# Provide the IP address, username, password, database name, RFC3339 standard time format, and create a connection client for the 'db0' database\n",
        "client = InfluxDBClient('59.120.114.133', 8086, 'telegraf', 'telegraf', 'db0', 'rfc3339', timeout=10)"
      ]
    },
    {
      "cell_type": "code",
      "source": [
        "# Function to calculate start and end times for the previous day\n",
        "def calculate_previous_day_times():\n",
        "    current_datetime = datetime.now()\n",
        "    start_of_previous_day = current_datetime - timedelta(days=1)\n",
        "    start_of_previous_day = start_of_previous_day.replace(hour=0, minute=0, second=0, microsecond=0)\n",
        "    end_of_previous_day = current_datetime.replace(hour=0, minute=0, second=0, microsecond=0) - timedelta(microseconds=1)\n",
        "\n",
        "    return start_of_previous_day, end_of_previous_day"
      ],
      "metadata": {
        "id": "Ci3hctcSVjG4"
      },
      "execution_count": 5,
      "outputs": []
    },
    {
      "cell_type": "code",
      "source": [
        "# InfluxDB query\n",
        "start_time, end_time = calculate_previous_day_times()\n",
        "\n",
        "sql_string = f'SELECT DISTINCT(\"value\") AS value FROM mbMQTT6 WHERE \"topic\" = \\'mbMQTT2/home2127/C2BDF8/TH20\\' AND time >= \\'{start_time.strftime(\"%Y-%m-%dT%H:%M:%SZ\")}\\' AND time <= \\'{end_time.strftime(\"%Y-%m-%dT%H:%M:%SZ\")}\\' GROUP BY time(10s) FILL(previous) ORDER BY time ASC TZ(\\'Asia/Taipei\\');'\n",
        "\n",
        "result = client.query(sql_string) #"
      ],
      "metadata": {
        "id": "sa2Ga-TsVkMr"
      },
      "execution_count": 6,
      "outputs": []
    },
    {
      "cell_type": "code",
      "source": [
        "\n",
        "homes_data = {\n",
        "    'home2127':pd.DataFrame(result['mbMQTT6']),\n",
        "    'home2128':pd.DataFrame(result['mbMQTT6'])\n",
        "}"
      ],
      "metadata": {
        "id": "yOchQnLpV0M7"
      },
      "execution_count": 7,
      "outputs": []
    },
    {
      "cell_type": "code",
      "source": [
        "# Function to fill missing values for a given home\n",
        "def fill_missing_values(home_data):\n",
        "    home_data['time'] = pd.to_datetime(home_data['time'])\n",
        "    home_data.set_index('time', inplace=True)\n",
        "    expected_time_intervals = pd.date_range(start=home_data.index.min(), end=home_data.index.max(), freq='10S')\n",
        "    home_data = home_data.reindex(expected_time_intervals)\n",
        "    home_data['value'] = home_data['value'].fillna(method='pad')\n",
        "    home_data.reset_index(inplace=True)\n",
        "    return home_data"
      ],
      "metadata": {
        "id": "OmNJ7-8yV0TG"
      },
      "execution_count": 8,
      "outputs": []
    },
    {
      "cell_type": "code",
      "source": [
        "# Loop through each home and fill missing values\n",
        "filled_homes_data = {}\n",
        "for home_name, home_df in homes_data.items():\n",
        "    filled_homes_data[home_name] = fill_missing_values(home_df)\n",
        "\n",
        "# # Display the resulting filled DataFrames\n",
        "# for home_name, filled_home_data in filled_homes_data.items():\n",
        "#     print(f\"\\nFilled Data for {home_name}:\\n{filled_home_data}\")"
      ],
      "metadata": {
        "id": "6swtX93yV0QA"
      },
      "execution_count": 9,
      "outputs": []
    },
    {
      "cell_type": "code",
      "source": [
        "# Loop through each home and perform the division and multiplication\n",
        "transformed_homes_data = {}\n",
        "for home_name, filled_home_data in filled_homes_data.items():\n",
        "    # Convert 'value' column to numeric\n",
        "    filled_home_data['value'] = pd.to_numeric(filled_home_data['value'], errors='coerce')\n",
        "\n",
        "    # Perform division and multiplication\n",
        "    filled_home_data['value'] = filled_home_data['value'] / 100000 * 1000\n",
        "\n",
        "    # Store the transformed DataFrame\n",
        "    transformed_homes_data[home_name] = filled_home_data\n",
        "\n",
        "# # Display the resulting transformed DataFrames\n",
        "# for home_name, transformed_home_data in transformed_homes_data.items():\n",
        "#     print(f\"\\nTransformed Data for {home_name}:\\n{transformed_home_data}\")\n"
      ],
      "metadata": {
        "id": "OBAz5oKHb-bp"
      },
      "execution_count": null,
      "outputs": []
    },
    {
      "cell_type": "code",
      "source": [
        "# prompt: loop through each home and find the difference between 'value'\n",
        "differenced_homes_data = {}\n",
        "for home_name, transformed_home_data in transformed_homes_data.items():\n",
        "    # Calculate the difference between 'value' column\n",
        "    transformed_home_data['volume'] = transformed_home_data['value'].diff()\n",
        "\n",
        "    # Store the transformed DataFrame\n",
        "    differenced_homes_data[home_name] = transformed_home_data\n",
        "\n",
        "# # Display the resulting DataFrames with filled NaN values\n",
        "# for home_name, differenced_home_data in differenced_homes_data.items():\n",
        "#     print(f\"\\nData for {home_name} with NaN filled with 0:\\n{differenced_home_data}\")"
      ],
      "metadata": {
        "id": "eJSPzROzeZHZ"
      },
      "execution_count": 18,
      "outputs": []
    },
    {
      "cell_type": "code",
      "source": [
        "# Loop through each home and replace NaN with 0 in the 'value_diff' column\n",
        "filled_nan_homes_data = {}\n",
        "for home_name, differenced_home_data in differenced_homes_data.items():\n",
        "    # Replace NaN with 0 in the 'value_diff' column\n",
        "    differenced_home_data['volume'] = differenced_home_data['volume'].fillna(0)\n",
        "\n",
        "    # Store the DataFrame with filled NaN values\n",
        "    filled_nan_homes_data[home_name] = differenced_home_data\n",
        "\n",
        "# # Display the resulting DataFrames with filled NaN values\n",
        "# for home_name, filled_nan_home_data in filled_nan_homes_data.items():\n",
        "#     print(f\"\\nData for {home_name} with NaN filled with 0:\\n{filled_nan_home_data}\")\n"
      ],
      "metadata": {
        "id": "AfoaHe18b-ei"
      },
      "execution_count": 19,
      "outputs": []
    },
    {
      "cell_type": "code",
      "source": [
        "# Loop through each home and filter values less than 0.2 in the 'value_diff' column\n",
        "filtered_homes_data = {}\n",
        "for home_name, filled_nan_home_data in filled_nan_homes_data.items():\n",
        "    # Filter values less than 0.2 in the 'value_diff' column\n",
        "    filtered_home_data = filled_nan_home_data[filled_nan_home_data['value_diff'] < 0.2]\n",
        "\n",
        "    # Store the filtered DataFrame\n",
        "    filtered_homes_data[home_name] = filtered_home_data\n",
        "\n",
        "# Display the resulting filtered DataFrames\n",
        "for home_name, filtered_home_data in filtered_homes_data.items():\n",
        "    print(f\"\\nFiltered Data for {home_name}:\\n{filtered_home_data}\")\n"
      ],
      "metadata": {
        "id": "F7-zbZF3b-h8",
        "outputId": "2d6608ce-fe4b-4c0e-9fd0-866e5a86476a",
        "colab": {
          "base_uri": "https://localhost:8080/"
        }
      },
      "execution_count": 20,
      "outputs": [
        {
          "output_type": "stream",
          "name": "stdout",
          "text": [
            "\n",
            "Filtered Data for home2127:\n",
            "                         index     value  value_diff  volume\n",
            "0    2024-01-03 00:00:00+00:00  26908.90        0.00    0.00\n",
            "1    2024-01-03 00:00:10+00:00  26908.90        0.00    0.00\n",
            "2    2024-01-03 00:00:20+00:00  26908.90        0.00    0.00\n",
            "3    2024-01-03 00:00:30+00:00  26908.90        0.00    0.00\n",
            "4    2024-01-03 00:00:40+00:00  26908.90        0.00    0.00\n",
            "...                        ...       ...         ...     ...\n",
            "8635 2024-01-03 23:59:10+00:00  27073.54        0.00    0.00\n",
            "8636 2024-01-03 23:59:20+00:00  27073.54        0.00    0.00\n",
            "8637 2024-01-03 23:59:30+00:00  27073.56        0.02    0.02\n",
            "8638 2024-01-03 23:59:40+00:00  27073.56        0.00    0.00\n",
            "8639 2024-01-03 23:59:50+00:00  27073.56        0.00    0.00\n",
            "\n",
            "[8535 rows x 4 columns]\n",
            "\n",
            "Filtered Data for home2128:\n",
            "                         index     value  value_diff  volume\n",
            "0    2024-01-03 00:00:00+00:00  26908.90        0.00    0.00\n",
            "1    2024-01-03 00:00:10+00:00  26908.90        0.00    0.00\n",
            "2    2024-01-03 00:00:20+00:00  26908.90        0.00    0.00\n",
            "3    2024-01-03 00:00:30+00:00  26908.90        0.00    0.00\n",
            "4    2024-01-03 00:00:40+00:00  26908.90        0.00    0.00\n",
            "...                        ...       ...         ...     ...\n",
            "8635 2024-01-03 23:59:10+00:00  27073.54        0.00    0.00\n",
            "8636 2024-01-03 23:59:20+00:00  27073.54        0.00    0.00\n",
            "8637 2024-01-03 23:59:30+00:00  27073.56        0.02    0.02\n",
            "8638 2024-01-03 23:59:40+00:00  27073.56        0.00    0.00\n",
            "8639 2024-01-03 23:59:50+00:00  27073.56        0.00    0.00\n",
            "\n",
            "[8535 rows x 4 columns]\n"
          ]
        }
      ]
    },
    {
      "cell_type": "code",
      "source": [],
      "metadata": {
        "id": "xcGIeZ03DODS"
      },
      "execution_count": null,
      "outputs": []
    },
    {
      "cell_type": "code",
      "source": [],
      "metadata": {
        "id": "_ZYS0tdACAj1"
      },
      "execution_count": null,
      "outputs": []
    }
  ]
}